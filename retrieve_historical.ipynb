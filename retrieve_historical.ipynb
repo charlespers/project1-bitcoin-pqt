{
 "cells": [
  {
   "cell_type": "code",
   "execution_count": null,
   "metadata": {
    "vscode": {
     "languageId": "plaintext"
    }
   },
   "outputs": [],
   "source": [
    "import kaggle as kg\n",
    "import os\n",
    "import pandas as pd \n",
    "\n",
    "\n",
    "os.environ['KAGGLE_USERNAME'] = '{KAGGLE_USERNAME}'\n",
    "os.environ['KAGGLE_KEY'] = '{KAGGLE_KEY}'\n",
    "kg.api.authenticate()\n",
    "data = \"mczielinski/bitcoin-historical-data\"\n",
    "df = \"on.zip\"\n",
    "kg.api.dataset_download_files(dataset = data, path = df, unzip = True)\n",
    "df = pd.read_csv('on.zip/btcusd_1-min_data.csv')"
   ]
  }
 ],
 "metadata": {
  "language_info": {
   "name": "python"
  }
 },
 "nbformat": 4,
 "nbformat_minor": 2
}
